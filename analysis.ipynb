{
 "cells": [
  {
   "cell_type": "code",
   "execution_count": 51,
   "id": "c49bf746",
   "metadata": {},
   "outputs": [],
   "source": [
    "import pandas as pd"
   ]
  },
  {
   "cell_type": "code",
   "execution_count": 52,
   "id": "b347ef17",
   "metadata": {},
   "outputs": [],
   "source": [
    "#Importing data from the cleaning juyter notebook\n",
    "df = pd.read_csv('output/cleaned_data.csv')"
   ]
  },
  {
   "cell_type": "code",
   "execution_count": 53,
   "id": "c4b509fd",
   "metadata": {},
   "outputs": [],
   "source": [
    "#When importing a new column appeared with the old indexes. I get rid of it and I use it as the new indexes\n",
    "df = df.set_index('Unnamed: 0')\n",
    "df.index.name = None"
   ]
  },
  {
   "cell_type": "code",
   "execution_count": 54,
   "id": "223dafc1",
   "metadata": {
    "scrolled": false
   },
   "outputs": [
    {
     "data": {
      "text/html": [
       "<div>\n",
       "<style scoped>\n",
       "    .dataframe tbody tr th:only-of-type {\n",
       "        vertical-align: middle;\n",
       "    }\n",
       "\n",
       "    .dataframe tbody tr th {\n",
       "        vertical-align: top;\n",
       "    }\n",
       "\n",
       "    .dataframe thead th {\n",
       "        text-align: right;\n",
       "    }\n",
       "</style>\n",
       "<table border=\"1\" class=\"dataframe\">\n",
       "  <thead>\n",
       "    <tr style=\"text-align: right;\">\n",
       "      <th></th>\n",
       "      <th>Case Number</th>\n",
       "      <th>Date</th>\n",
       "      <th>Type</th>\n",
       "      <th>Country</th>\n",
       "      <th>Area</th>\n",
       "      <th>Location</th>\n",
       "      <th>Activity</th>\n",
       "      <th>Name</th>\n",
       "      <th>Sex</th>\n",
       "      <th>Age</th>\n",
       "      <th>Injury</th>\n",
       "      <th>Fatal (Y/N)</th>\n",
       "      <th>Leg Injured</th>\n",
       "    </tr>\n",
       "  </thead>\n",
       "  <tbody>\n",
       "    <tr>\n",
       "      <th>0</th>\n",
       "      <td>2018.06.25</td>\n",
       "      <td>25-Jun-2018</td>\n",
       "      <td>Boating</td>\n",
       "      <td>USA</td>\n",
       "      <td>California</td>\n",
       "      <td>Oceanside, San Diego County</td>\n",
       "      <td>Paddling</td>\n",
       "      <td>Julie Wolfe</td>\n",
       "      <td>F</td>\n",
       "      <td>57</td>\n",
       "      <td>No injury to occupant, outrigger canoe and pad...</td>\n",
       "      <td>N</td>\n",
       "      <td>N</td>\n",
       "    </tr>\n",
       "    <tr>\n",
       "      <th>1</th>\n",
       "      <td>2018.06.18</td>\n",
       "      <td>18-Jun-2018</td>\n",
       "      <td>Unprovoked</td>\n",
       "      <td>USA</td>\n",
       "      <td>Georgia</td>\n",
       "      <td>St. Simon Island, Glynn County</td>\n",
       "      <td>Standing</td>\n",
       "      <td>Adyson McNeely</td>\n",
       "      <td>F</td>\n",
       "      <td>11</td>\n",
       "      <td>Minor injury to left thigh</td>\n",
       "      <td>N</td>\n",
       "      <td>N</td>\n",
       "    </tr>\n",
       "    <tr>\n",
       "      <th>2</th>\n",
       "      <td>2018.06.09</td>\n",
       "      <td>09-Jun-2018</td>\n",
       "      <td>Invalid</td>\n",
       "      <td>USA</td>\n",
       "      <td>Hawaii</td>\n",
       "      <td>Habush, Oahu</td>\n",
       "      <td>Surfing</td>\n",
       "      <td>John Denges</td>\n",
       "      <td>M</td>\n",
       "      <td>48</td>\n",
       "      <td>Injury to left lower leg from surfboard skeg</td>\n",
       "      <td>N</td>\n",
       "      <td>Y</td>\n",
       "    </tr>\n",
       "    <tr>\n",
       "      <th>3</th>\n",
       "      <td>2018.06.08</td>\n",
       "      <td>08-Jun-2018</td>\n",
       "      <td>Unprovoked</td>\n",
       "      <td>AUSTRALIA</td>\n",
       "      <td>New South Wales</td>\n",
       "      <td>Arrawarra Headland</td>\n",
       "      <td>Surfing</td>\n",
       "      <td>male</td>\n",
       "      <td>M</td>\n",
       "      <td>NaN</td>\n",
       "      <td>Minor injury to lower leg</td>\n",
       "      <td>N</td>\n",
       "      <td>Y</td>\n",
       "    </tr>\n",
       "    <tr>\n",
       "      <th>4</th>\n",
       "      <td>2018.06.04</td>\n",
       "      <td>04-Jun-2018</td>\n",
       "      <td>Provoked</td>\n",
       "      <td>MEXICO</td>\n",
       "      <td>Colima</td>\n",
       "      <td>La Ticla</td>\n",
       "      <td>Free diving</td>\n",
       "      <td>Gustavo Ramos</td>\n",
       "      <td>M</td>\n",
       "      <td>NaN</td>\n",
       "      <td>Lacerations to leg &amp; hand shark PROVOKED INCIDENT</td>\n",
       "      <td>N</td>\n",
       "      <td>Y</td>\n",
       "    </tr>\n",
       "    <tr>\n",
       "      <th>...</th>\n",
       "      <td>...</td>\n",
       "      <td>...</td>\n",
       "      <td>...</td>\n",
       "      <td>...</td>\n",
       "      <td>...</td>\n",
       "      <td>...</td>\n",
       "      <td>...</td>\n",
       "      <td>...</td>\n",
       "      <td>...</td>\n",
       "      <td>...</td>\n",
       "      <td>...</td>\n",
       "      <td>...</td>\n",
       "      <td>...</td>\n",
       "    </tr>\n",
       "    <tr>\n",
       "      <th>6296</th>\n",
       "      <td>ND.0006</td>\n",
       "      <td>Before 1906</td>\n",
       "      <td>Unprovoked</td>\n",
       "      <td>AUSTRALIA</td>\n",
       "      <td>New South Wales</td>\n",
       "      <td></td>\n",
       "      <td>Swimming</td>\n",
       "      <td>Arab boy</td>\n",
       "      <td>M</td>\n",
       "      <td>NaN</td>\n",
       "      <td>FATAL</td>\n",
       "      <td>Y</td>\n",
       "      <td>N</td>\n",
       "    </tr>\n",
       "    <tr>\n",
       "      <th>6297</th>\n",
       "      <td>ND.0005</td>\n",
       "      <td>Before 1903</td>\n",
       "      <td>Unprovoked</td>\n",
       "      <td>AUSTRALIA</td>\n",
       "      <td>Western Australia</td>\n",
       "      <td>Roebuck Bay</td>\n",
       "      <td>Diving</td>\n",
       "      <td>male</td>\n",
       "      <td>M</td>\n",
       "      <td>NaN</td>\n",
       "      <td>FATAL</td>\n",
       "      <td>Y</td>\n",
       "      <td>N</td>\n",
       "    </tr>\n",
       "    <tr>\n",
       "      <th>6298</th>\n",
       "      <td>ND.0004</td>\n",
       "      <td>Before 1903</td>\n",
       "      <td>Unprovoked</td>\n",
       "      <td>AUSTRALIA</td>\n",
       "      <td>Western Australia</td>\n",
       "      <td>NaN</td>\n",
       "      <td>Pearl diving</td>\n",
       "      <td>Ahmun</td>\n",
       "      <td>M</td>\n",
       "      <td>NaN</td>\n",
       "      <td>FATAL</td>\n",
       "      <td>Y</td>\n",
       "      <td>N</td>\n",
       "    </tr>\n",
       "    <tr>\n",
       "      <th>6299</th>\n",
       "      <td>ND.0003</td>\n",
       "      <td>1900-1905</td>\n",
       "      <td>Unprovoked</td>\n",
       "      <td>USA</td>\n",
       "      <td>North Carolina</td>\n",
       "      <td>Ocracoke Inlet</td>\n",
       "      <td>Swimming</td>\n",
       "      <td>Coast Guard personnel</td>\n",
       "      <td>M</td>\n",
       "      <td>NaN</td>\n",
       "      <td>FATAL</td>\n",
       "      <td>Y</td>\n",
       "      <td>N</td>\n",
       "    </tr>\n",
       "    <tr>\n",
       "      <th>6301</th>\n",
       "      <td>ND.0001</td>\n",
       "      <td>1845-1853</td>\n",
       "      <td>Unprovoked</td>\n",
       "      <td>CEYLON (SRI LANKA)</td>\n",
       "      <td>Eastern Province</td>\n",
       "      <td>Below the English fort, Trincomalee</td>\n",
       "      <td>Swimming</td>\n",
       "      <td>male</td>\n",
       "      <td>M</td>\n",
       "      <td>15</td>\n",
       "      <td>FATAL. \"Shark bit him in half, carrying away t...</td>\n",
       "      <td>Y</td>\n",
       "      <td>N</td>\n",
       "    </tr>\n",
       "  </tbody>\n",
       "</table>\n",
       "<p>5718 rows × 13 columns</p>\n",
       "</div>"
      ],
      "text/plain": [
       "     Case Number         Date        Type             Country  \\\n",
       "0     2018.06.25  25-Jun-2018     Boating                 USA   \n",
       "1     2018.06.18  18-Jun-2018  Unprovoked                 USA   \n",
       "2     2018.06.09  09-Jun-2018     Invalid                 USA   \n",
       "3     2018.06.08  08-Jun-2018  Unprovoked           AUSTRALIA   \n",
       "4     2018.06.04  04-Jun-2018    Provoked              MEXICO   \n",
       "...          ...          ...         ...                 ...   \n",
       "6296     ND.0006  Before 1906  Unprovoked           AUSTRALIA   \n",
       "6297     ND.0005  Before 1903  Unprovoked           AUSTRALIA   \n",
       "6298     ND.0004  Before 1903  Unprovoked           AUSTRALIA   \n",
       "6299     ND.0003    1900-1905  Unprovoked                 USA   \n",
       "6301     ND.0001    1845-1853  Unprovoked  CEYLON (SRI LANKA)   \n",
       "\n",
       "                   Area                             Location      Activity  \\\n",
       "0            California          Oceanside, San Diego County      Paddling   \n",
       "1               Georgia       St. Simon Island, Glynn County      Standing   \n",
       "2                Hawaii                         Habush, Oahu       Surfing   \n",
       "3       New South Wales                   Arrawarra Headland       Surfing   \n",
       "4                Colima                             La Ticla   Free diving   \n",
       "...                 ...                                  ...           ...   \n",
       "6296    New South Wales                                           Swimming   \n",
       "6297  Western Australia                          Roebuck Bay        Diving   \n",
       "6298  Western Australia                                  NaN  Pearl diving   \n",
       "6299     North Carolina                       Ocracoke Inlet      Swimming   \n",
       "6301   Eastern Province  Below the English fort, Trincomalee      Swimming   \n",
       "\n",
       "                       Name Sex  Age  \\\n",
       "0               Julie Wolfe   F   57   \n",
       "1           Adyson McNeely    F   11   \n",
       "2               John Denges   M   48   \n",
       "3                      male   M  NaN   \n",
       "4            Gustavo Ramos    M  NaN   \n",
       "...                     ...  ..  ...   \n",
       "6296               Arab boy   M  NaN   \n",
       "6297                   male   M  NaN   \n",
       "6298                  Ahmun   M  NaN   \n",
       "6299  Coast Guard personnel   M  NaN   \n",
       "6301                   male   M   15   \n",
       "\n",
       "                                                 Injury Fatal (Y/N)  \\\n",
       "0     No injury to occupant, outrigger canoe and pad...           N   \n",
       "1                            Minor injury to left thigh           N   \n",
       "2          Injury to left lower leg from surfboard skeg           N   \n",
       "3                             Minor injury to lower leg           N   \n",
       "4     Lacerations to leg & hand shark PROVOKED INCIDENT           N   \n",
       "...                                                 ...         ...   \n",
       "6296                                              FATAL           Y   \n",
       "6297                                              FATAL           Y   \n",
       "6298                                              FATAL           Y   \n",
       "6299                                              FATAL           Y   \n",
       "6301  FATAL. \"Shark bit him in half, carrying away t...           Y   \n",
       "\n",
       "     Leg Injured  \n",
       "0              N  \n",
       "1              N  \n",
       "2              Y  \n",
       "3              Y  \n",
       "4              Y  \n",
       "...          ...  \n",
       "6296           N  \n",
       "6297           N  \n",
       "6298           N  \n",
       "6299           N  \n",
       "6301           N  \n",
       "\n",
       "[5718 rows x 13 columns]"
      ]
     },
     "execution_count": 54,
     "metadata": {},
     "output_type": "execute_result"
    }
   ],
   "source": [
    "df"
   ]
  },
  {
   "cell_type": "code",
   "execution_count": 55,
   "id": "1af0f641",
   "metadata": {},
   "outputs": [
    {
     "data": {
      "text/plain": [
       "26.750167747707447"
      ]
     },
     "execution_count": 55,
     "metadata": {},
     "output_type": "execute_result"
    }
   ],
   "source": [
    "#Percentage of people that get their leg injured in shark attacks and weren't surfing\n",
    "df[(df[\"Leg Injured\"] == \"Y\") & (df[\"Activity\"] != \"Surfing\")].shape[0] / df[df[\"Activity\"] != \"Surfing\"].shape[0] * 100"
   ]
  },
  {
   "cell_type": "code",
   "execution_count": 56,
   "id": "6d293623",
   "metadata": {},
   "outputs": [
    {
     "data": {
      "text/plain": [
       "45.950280673616675"
      ]
     },
     "execution_count": 56,
     "metadata": {},
     "output_type": "execute_result"
    }
   ],
   "source": [
    "#Percentage of surfers that get their leg injured in shark attacks (It's much higher!!)\n",
    "df[(df[\"Leg Injured\"] == \"Y\") & (df[\"Activity\"] == \"Surfing\")].shape[0] / df[df[\"Activity\"] == \"Surfing\"].shape[0] * 100"
   ]
  },
  {
   "cell_type": "code",
   "execution_count": 57,
   "id": "5e43eccc",
   "metadata": {
    "scrolled": false
   },
   "outputs": [
    {
     "data": {
      "text/html": [
       "<div>\n",
       "<style scoped>\n",
       "    .dataframe tbody tr th:only-of-type {\n",
       "        vertical-align: middle;\n",
       "    }\n",
       "\n",
       "    .dataframe tbody tr th {\n",
       "        vertical-align: top;\n",
       "    }\n",
       "\n",
       "    .dataframe thead th {\n",
       "        text-align: right;\n",
       "    }\n",
       "</style>\n",
       "<table border=\"1\" class=\"dataframe\">\n",
       "  <thead>\n",
       "    <tr style=\"text-align: right;\">\n",
       "      <th></th>\n",
       "      <th>Case Number</th>\n",
       "      <th>Date</th>\n",
       "      <th>Type</th>\n",
       "      <th>Country</th>\n",
       "      <th>Area</th>\n",
       "      <th>Location</th>\n",
       "      <th>Activity</th>\n",
       "      <th>Name</th>\n",
       "      <th>Sex</th>\n",
       "      <th>Age</th>\n",
       "      <th>Injury</th>\n",
       "      <th>Fatal (Y/N)</th>\n",
       "      <th>Leg Injured</th>\n",
       "    </tr>\n",
       "  </thead>\n",
       "  <tbody>\n",
       "    <tr>\n",
       "      <th>0</th>\n",
       "      <td>2018.06.25</td>\n",
       "      <td>25-Jun-2018</td>\n",
       "      <td>Boating</td>\n",
       "      <td>USA</td>\n",
       "      <td>California</td>\n",
       "      <td>Oceanside, San Diego County</td>\n",
       "      <td>Paddling</td>\n",
       "      <td>Julie Wolfe</td>\n",
       "      <td>F</td>\n",
       "      <td>57</td>\n",
       "      <td>No injury to occupant, outrigger canoe and pad...</td>\n",
       "      <td>N</td>\n",
       "      <td>N</td>\n",
       "    </tr>\n",
       "    <tr>\n",
       "      <th>1</th>\n",
       "      <td>2018.06.18</td>\n",
       "      <td>18-Jun-2018</td>\n",
       "      <td>Unprovoked</td>\n",
       "      <td>USA</td>\n",
       "      <td>Georgia</td>\n",
       "      <td>St. Simon Island, Glynn County</td>\n",
       "      <td>Standing</td>\n",
       "      <td>Adyson McNeely</td>\n",
       "      <td>F</td>\n",
       "      <td>11</td>\n",
       "      <td>Minor injury to left thigh</td>\n",
       "      <td>N</td>\n",
       "      <td>N</td>\n",
       "    </tr>\n",
       "    <tr>\n",
       "      <th>2</th>\n",
       "      <td>2018.06.09</td>\n",
       "      <td>09-Jun-2018</td>\n",
       "      <td>Invalid</td>\n",
       "      <td>USA</td>\n",
       "      <td>Hawaii</td>\n",
       "      <td>Habush, Oahu</td>\n",
       "      <td>Surfing</td>\n",
       "      <td>John Denges</td>\n",
       "      <td>M</td>\n",
       "      <td>48</td>\n",
       "      <td>Injury to left lower leg from surfboard skeg</td>\n",
       "      <td>N</td>\n",
       "      <td>Y</td>\n",
       "    </tr>\n",
       "    <tr>\n",
       "      <th>3</th>\n",
       "      <td>2018.06.08</td>\n",
       "      <td>08-Jun-2018</td>\n",
       "      <td>Unprovoked</td>\n",
       "      <td>AUSTRALIA</td>\n",
       "      <td>New South Wales</td>\n",
       "      <td>Arrawarra Headland</td>\n",
       "      <td>Surfing</td>\n",
       "      <td>male</td>\n",
       "      <td>M</td>\n",
       "      <td>NaN</td>\n",
       "      <td>Minor injury to lower leg</td>\n",
       "      <td>N</td>\n",
       "      <td>Y</td>\n",
       "    </tr>\n",
       "    <tr>\n",
       "      <th>4</th>\n",
       "      <td>2018.06.04</td>\n",
       "      <td>04-Jun-2018</td>\n",
       "      <td>Provoked</td>\n",
       "      <td>MEXICO</td>\n",
       "      <td>Colima</td>\n",
       "      <td>La Ticla</td>\n",
       "      <td>Free diving</td>\n",
       "      <td>Gustavo Ramos</td>\n",
       "      <td>M</td>\n",
       "      <td>NaN</td>\n",
       "      <td>Lacerations to leg &amp; hand shark PROVOKED INCIDENT</td>\n",
       "      <td>N</td>\n",
       "      <td>Y</td>\n",
       "    </tr>\n",
       "    <tr>\n",
       "      <th>...</th>\n",
       "      <td>...</td>\n",
       "      <td>...</td>\n",
       "      <td>...</td>\n",
       "      <td>...</td>\n",
       "      <td>...</td>\n",
       "      <td>...</td>\n",
       "      <td>...</td>\n",
       "      <td>...</td>\n",
       "      <td>...</td>\n",
       "      <td>...</td>\n",
       "      <td>...</td>\n",
       "      <td>...</td>\n",
       "      <td>...</td>\n",
       "    </tr>\n",
       "    <tr>\n",
       "      <th>6289</th>\n",
       "      <td>ND.0013</td>\n",
       "      <td>No date (3 days after preceding incident) &amp; pr...</td>\n",
       "      <td>Unprovoked</td>\n",
       "      <td>SOUTH AFRICA</td>\n",
       "      <td>KwaZulu-Natal</td>\n",
       "      <td>Durban</td>\n",
       "      <td>Fishing</td>\n",
       "      <td>a native fisherman</td>\n",
       "      <td>M</td>\n",
       "      <td>NaN</td>\n",
       "      <td>FATAL, body not recovered but shark was caught...</td>\n",
       "      <td>Y</td>\n",
       "      <td>N</td>\n",
       "    </tr>\n",
       "    <tr>\n",
       "      <th>6290</th>\n",
       "      <td>ND.0012</td>\n",
       "      <td>Before 19-Jul-1913</td>\n",
       "      <td>Unprovoked</td>\n",
       "      <td>SOUTH AFRICA</td>\n",
       "      <td>KwaZulu-Natal</td>\n",
       "      <td>Durban</td>\n",
       "      <td>Wading</td>\n",
       "      <td>a young Scotsman</td>\n",
       "      <td>M</td>\n",
       "      <td>NaN</td>\n",
       "      <td>FATAL, leg stripped of flesh</td>\n",
       "      <td>Y</td>\n",
       "      <td>Y</td>\n",
       "    </tr>\n",
       "    <tr>\n",
       "      <th>6291</th>\n",
       "      <td>ND.0011</td>\n",
       "      <td>Before 1911</td>\n",
       "      <td>Unprovoked</td>\n",
       "      <td>ASIA?</td>\n",
       "      <td>NaN</td>\n",
       "      <td>NaN</td>\n",
       "      <td>Swimming</td>\n",
       "      <td>Mr. Masury</td>\n",
       "      <td>M</td>\n",
       "      <td>NaN</td>\n",
       "      <td>Foot severed</td>\n",
       "      <td>N</td>\n",
       "      <td>Y</td>\n",
       "    </tr>\n",
       "    <tr>\n",
       "      <th>6293</th>\n",
       "      <td>ND.0009</td>\n",
       "      <td>Before 1906</td>\n",
       "      <td>Unprovoked</td>\n",
       "      <td>AUSTRALIA</td>\n",
       "      <td>NaN</td>\n",
       "      <td>NaN</td>\n",
       "      <td>Fishing</td>\n",
       "      <td>boy</td>\n",
       "      <td>M</td>\n",
       "      <td>NaN</td>\n",
       "      <td>FATAL, knocked overboard by tail of shark &amp; ca...</td>\n",
       "      <td>Y</td>\n",
       "      <td>N</td>\n",
       "    </tr>\n",
       "    <tr>\n",
       "      <th>6301</th>\n",
       "      <td>ND.0001</td>\n",
       "      <td>1845-1853</td>\n",
       "      <td>Unprovoked</td>\n",
       "      <td>CEYLON (SRI LANKA)</td>\n",
       "      <td>Eastern Province</td>\n",
       "      <td>Below the English fort, Trincomalee</td>\n",
       "      <td>Swimming</td>\n",
       "      <td>male</td>\n",
       "      <td>M</td>\n",
       "      <td>15</td>\n",
       "      <td>FATAL. \"Shark bit him in half, carrying away t...</td>\n",
       "      <td>Y</td>\n",
       "      <td>N</td>\n",
       "    </tr>\n",
       "  </tbody>\n",
       "</table>\n",
       "<p>4997 rows × 13 columns</p>\n",
       "</div>"
      ],
      "text/plain": [
       "     Case Number                                               Date  \\\n",
       "0     2018.06.25                                        25-Jun-2018   \n",
       "1     2018.06.18                                        18-Jun-2018   \n",
       "2     2018.06.09                                        09-Jun-2018   \n",
       "3     2018.06.08                                        08-Jun-2018   \n",
       "4     2018.06.04                                        04-Jun-2018   \n",
       "...          ...                                                ...   \n",
       "6289     ND.0013  No date (3 days after preceding incident) & pr...   \n",
       "6290     ND.0012                                 Before 19-Jul-1913   \n",
       "6291     ND.0011                                        Before 1911   \n",
       "6293     ND.0009                                        Before 1906   \n",
       "6301     ND.0001                                          1845-1853   \n",
       "\n",
       "            Type             Country              Area  \\\n",
       "0        Boating                 USA        California   \n",
       "1     Unprovoked                 USA           Georgia   \n",
       "2        Invalid                 USA            Hawaii   \n",
       "3     Unprovoked           AUSTRALIA   New South Wales   \n",
       "4       Provoked              MEXICO            Colima   \n",
       "...          ...                 ...               ...   \n",
       "6289  Unprovoked        SOUTH AFRICA     KwaZulu-Natal   \n",
       "6290  Unprovoked        SOUTH AFRICA     KwaZulu-Natal   \n",
       "6291  Unprovoked               ASIA?               NaN   \n",
       "6293  Unprovoked           AUSTRALIA               NaN   \n",
       "6301  Unprovoked  CEYLON (SRI LANKA)  Eastern Province   \n",
       "\n",
       "                                 Location     Activity                Name  \\\n",
       "0             Oceanside, San Diego County     Paddling         Julie Wolfe   \n",
       "1          St. Simon Island, Glynn County     Standing     Adyson McNeely    \n",
       "2                            Habush, Oahu      Surfing         John Denges   \n",
       "3                      Arrawarra Headland      Surfing                male   \n",
       "4                                La Ticla  Free diving      Gustavo Ramos    \n",
       "...                                   ...          ...                 ...   \n",
       "6289                               Durban      Fishing  a native fisherman   \n",
       "6290                               Durban       Wading    a young Scotsman   \n",
       "6291                                  NaN     Swimming          Mr. Masury   \n",
       "6293                                  NaN      Fishing                 boy   \n",
       "6301  Below the English fort, Trincomalee     Swimming                male   \n",
       "\n",
       "     Sex  Age                                             Injury Fatal (Y/N)  \\\n",
       "0      F   57  No injury to occupant, outrigger canoe and pad...           N   \n",
       "1      F   11                         Minor injury to left thigh           N   \n",
       "2      M   48       Injury to left lower leg from surfboard skeg           N   \n",
       "3      M  NaN                          Minor injury to lower leg           N   \n",
       "4      M  NaN  Lacerations to leg & hand shark PROVOKED INCIDENT           N   \n",
       "...   ..  ...                                                ...         ...   \n",
       "6289   M  NaN  FATAL, body not recovered but shark was caught...           Y   \n",
       "6290   M  NaN                     FATAL, leg stripped of flesh             Y   \n",
       "6291   M  NaN                                       Foot severed           N   \n",
       "6293   M  NaN  FATAL, knocked overboard by tail of shark & ca...           Y   \n",
       "6301   M   15  FATAL. \"Shark bit him in half, carrying away t...           Y   \n",
       "\n",
       "     Leg Injured  \n",
       "0              N  \n",
       "1              N  \n",
       "2              Y  \n",
       "3              Y  \n",
       "4              Y  \n",
       "...          ...  \n",
       "6289           N  \n",
       "6290           Y  \n",
       "6291           Y  \n",
       "6293           N  \n",
       "6301           N  \n",
       "\n",
       "[4997 rows x 13 columns]"
      ]
     },
     "execution_count": 57,
     "metadata": {},
     "output_type": "execute_result"
    }
   ],
   "source": [
    "'''I realized that entries which have just \"FATAL\"as their injury description don't give me any info \n",
    "on whether there was an injury in the leg or if it was the cause of the fatality so I just drop them.\n",
    "Now my dataset has 5000 entries instead of 6300'''\n",
    "df.drop(df[df['Injury'] == \"FATAL\"].index, inplace = True)\n",
    "df"
   ]
  },
  {
   "cell_type": "code",
   "execution_count": 58,
   "id": "b24014ea",
   "metadata": {
    "scrolled": false
   },
   "outputs": [
    {
     "data": {
      "text/plain": [
       "31.548404115009234"
      ]
     },
     "execution_count": 58,
     "metadata": {},
     "output_type": "execute_result"
    }
   ],
   "source": [
    "#I check again for the percentage of non-surfers that got their leg injured (without taking just \"FATAL\" injuries into account)\n",
    "df[(df[\"Leg Injured\"] == \"Y\") & (df[\"Activity\"] != \"Surfing\")].shape[0] / df[(df[\"Activity\"] != \"Surfing\")].shape[0] * 100"
   ]
  },
  {
   "cell_type": "code",
   "execution_count": 59,
   "id": "b2a9b8e8",
   "metadata": {
    "scrolled": true
   },
   "outputs": [
    {
     "data": {
      "text/plain": [
       "47.51243781094527"
      ]
     },
     "execution_count": 59,
     "metadata": {},
     "output_type": "execute_result"
    }
   ],
   "source": [
    "#I do the same but just for people that were surfing (It's still higher!!!! :))\n",
    "df[(df[\"Leg Injured\"] == \"Y\") & (df[\"Activity\"] == \"Surfing\")].shape[0] / df[(df[\"Activity\"] == \"Surfing\")].shape[0] * 100"
   ]
  },
  {
   "cell_type": "code",
   "execution_count": 60,
   "id": "57855c39",
   "metadata": {},
   "outputs": [
    {
     "data": {
      "text/plain": [
       "29.42271880819367"
      ]
     },
     "execution_count": 60,
     "metadata": {},
     "output_type": "execute_result"
    }
   ],
   "source": [
    "#Now I calculate the percentage of non-surfers that died and had any word related to legs in the description of their injury\n",
    "df[(df[\"Leg Injured\"] == \"Y\") & (df[\"Activity\"] != \"Surfing\") & (df[\"Fatal (Y/N)\"] == \"Y\")].shape[0] / df[(df[\"Activity\"] != \"Surfing\") & (df[\"Fatal (Y/N)\"] == \"Y\")].shape[0] * 100"
   ]
  },
  {
   "cell_type": "code",
   "execution_count": 61,
   "id": "a6772f99",
   "metadata": {
    "scrolled": true
   },
   "outputs": [
    {
     "data": {
      "text/plain": [
       "39.39393939393939"
      ]
     },
     "execution_count": 61,
     "metadata": {},
     "output_type": "execute_result"
    }
   ],
   "source": [
    "#I do the same for surfers. There's a lot of fatalities!!! :o\n",
    "df[(df[\"Leg Injured\"] == \"Y\") & (df[\"Activity\"] == \"Surfing\") & (df[\"Fatal (Y/N)\"] == \"Y\")].shape[0] / df[(df[\"Activity\"] == \"Surfing\") & (df[\"Fatal (Y/N)\"] == \"Y\")].shape[0] * 100"
   ]
  },
  {
   "cell_type": "code",
   "execution_count": 62,
   "id": "f31e614c",
   "metadata": {},
   "outputs": [
    {
     "data": {
      "text/plain": [
       "32.077359119706564"
      ]
     },
     "execution_count": 62,
     "metadata": {},
     "output_type": "execute_result"
    }
   ],
   "source": [
    "#Percentage of non-surfing males that got their leg injured\n",
    "df[(df[\"Leg Injured\"] == \"Y\") & (df[\"Activity\"] != \"Surfing\") & (df[\"Sex\"] == \"M\")].shape[0] / df[(df[\"Activity\"] != \"Surfing\") & (df[\"Sex\"] == \"M\")].shape[0] * 100"
   ]
  },
  {
   "cell_type": "code",
   "execution_count": 63,
   "id": "26d69cad",
   "metadata": {},
   "outputs": [
    {
     "data": {
      "text/plain": [
       "47.782805429864254"
      ]
     },
     "execution_count": 63,
     "metadata": {},
     "output_type": "execute_result"
    }
   ],
   "source": [
    "#Percentage of male surfers that got their leg injured\n",
    "df[(df[\"Leg Injured\"] == \"Y\") & (df[\"Activity\"] == \"Surfing\") & (df[\"Sex\"] == \"M\")].shape[0] / df[(df[\"Activity\"] == \"Surfing\") & (df[\"Sex\"] == \"M\")].shape[0] * 100"
   ]
  },
  {
   "cell_type": "code",
   "execution_count": 64,
   "id": "8c67f80a",
   "metadata": {
    "scrolled": true
   },
   "outputs": [
    {
     "data": {
      "text/plain": [
       "48.081264108352144"
      ]
     },
     "execution_count": 64,
     "metadata": {},
     "output_type": "execute_result"
    }
   ],
   "source": [
    "#Percentage of non-surfing females that got their leg injured\n",
    "df[(df[\"Leg Injured\"] == \"Y\") & (df[\"Activity\"] != \"Surfing\") & (df[\"Sex\"] == \"F\")].shape[0] / df[(df[\"Activity\"] != \"Surfing\") & (df[\"Sex\"] == \"F\")].shape[0] * 100"
   ]
  },
  {
   "cell_type": "code",
   "execution_count": 65,
   "id": "a0040066",
   "metadata": {},
   "outputs": [
    {
     "data": {
      "text/plain": [
       "45.33333333333333"
      ]
     },
     "execution_count": 65,
     "metadata": {},
     "output_type": "execute_result"
    }
   ],
   "source": [
    "#Percentage of female surfers that got their leg injured (less than female non-surfers :o)\n",
    "df[(df[\"Leg Injured\"] == \"Y\") & (df[\"Activity\"] == \"Surfing\") & (df[\"Sex\"] == \"F\")].shape[0] / df[(df[\"Activity\"] == \"Surfing\") & (df[\"Sex\"] == \"F\")].shape[0] * 100"
   ]
  },
  {
   "cell_type": "code",
   "execution_count": 66,
   "id": "22bec729",
   "metadata": {},
   "outputs": [],
   "source": [
    "#Export current data to use in visualization\n",
    "df.to_csv(\"output/analized_data.csv\")"
   ]
  }
 ],
 "metadata": {
  "kernelspec": {
   "display_name": "Python 3 (ipykernel)",
   "language": "python",
   "name": "python3"
  },
  "language_info": {
   "codemirror_mode": {
    "name": "ipython",
    "version": 3
   },
   "file_extension": ".py",
   "mimetype": "text/x-python",
   "name": "python",
   "nbconvert_exporter": "python",
   "pygments_lexer": "ipython3",
   "version": "3.9.12"
  }
 },
 "nbformat": 4,
 "nbformat_minor": 5
}
